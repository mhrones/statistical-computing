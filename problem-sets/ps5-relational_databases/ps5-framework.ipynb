{
 "cells": [
  {
   "cell_type": "markdown",
   "metadata": {},
   "source": [
    "# Problem Set 5"
   ]
  },
  {
   "cell_type": "code",
   "execution_count": 114,
   "metadata": {
    "collapsed": true
   },
   "outputs": [],
   "source": [
    "import sqlite3\n",
    "import pandas as pd\n",
    "import numpy as np\n",
    "import seaborn as sns\n",
    "import pdb"
   ]
  },
  {
   "cell_type": "markdown",
   "metadata": {},
   "source": [
    "## Problem A: Writing queries\n",
    "Make a connection to the baseball sqlite database and create a cursor object on the database.\n",
    "Name the connection `conn` and the cursor `c`."
   ]
  },
  {
   "cell_type": "code",
   "execution_count": 115,
   "metadata": {
    "collapsed": true
   },
   "outputs": [],
   "source": [
    "#IMPLEMENT ME (2 lines)"
   ]
  },
  {
   "cell_type": "markdown",
   "metadata": {},
   "source": [
    "The following prints the names of all of the tables in the database."
   ]
  },
  {
   "cell_type": "code",
   "execution_count": 116,
   "metadata": {},
   "outputs": [
    {
     "name": "stdout",
     "output_type": "stream",
     "text": [
      "Master\n",
      "sqlite_sequence\n",
      "Teams\n",
      "TeamsFranchises\n",
      "TeamsHalf\n",
      "Batting\n",
      "Pitching\n",
      "Fielding\n",
      "FieldingOF\n",
      "Salaries\n",
      "Managers\n",
      "ManagersHalf\n",
      "AllstarFull\n",
      "AwardsPlayers\n",
      "AwardsSharePlayers\n",
      "AwardsManagers\n",
      "AwardsShareManagers\n",
      "HallOfFame\n",
      "BattingPost\n",
      "FieldingPost\n",
      "PitchingPost\n",
      "SeriesPost\n",
      "Schools\n",
      "SchoolsPlayers\n",
      "xref_stats\n",
      "Appearances\n"
     ]
    }
   ],
   "source": [
    "c.execute(\"SELECT name FROM sqlite_master WHERE type='table'\")\n",
    "for name in c.fetchall():\n",
    "    print(name[0])"
   ]
  },
  {
   "cell_type": "markdown",
   "metadata": {},
   "source": [
    "### Part 2\n",
    "Print the column names for the Salaries table."
   ]
  },
  {
   "cell_type": "code",
   "execution_count": 117,
   "metadata": {
    "collapsed": true
   },
   "outputs": [],
   "source": [
    "# IMPLEMENT ME; save column names as a list under 'names' to print\n",
    "# Don't modify anything below.\n",
    "print(names) "
   ]
  },
  {
   "cell_type": "markdown",
   "metadata": {},
   "source": [
    "### Part 3\n",
    "Print the first ten records in the Salaries table using `fetchmany`."
   ]
  },
  {
   "cell_type": "code",
   "execution_count": 118,
   "metadata": {
    "collapsed": true
   },
   "outputs": [],
   "source": [
    "# IMPLEMENT ME; save first ten records as a list under 'recordsA' using fetchmany to print\n",
    "# Don't modify anything below\n",
    "for i in recordsA:\n",
    "    print(i)"
   ]
  },
  {
   "cell_type": "markdown",
   "metadata": {},
   "source": [
    "## Problem B: Grouping and Sorting\n",
    "### Part 1\n",
    "Write an execute statement on cursor `c` that selects the average salary tuples for 2010 grouped by teamID. You should pass year `y` into the statement as a variable for safety."
   ]
  },
  {
   "cell_type": "code",
   "execution_count": 119,
   "metadata": {
    "collapsed": true
   },
   "outputs": [],
   "source": [
    "y = ('2010',)\n",
    "# IMPLEMENT ME\n",
    "recordsB1 = c.fetchall()\n",
    "for r in recordsB1:\n",
    "    print((r[0], r[1]))"
   ]
  },
  {
   "cell_type": "markdown",
   "metadata": {},
   "source": [
    "### Part 2\n",
    "Print the playerID and salary for the player with this highest salary in 2010. Make the year a variable in your execute statement."
   ]
  },
  {
   "cell_type": "code",
   "execution_count": 120,
   "metadata": {
    "collapsed": true
   },
   "outputs": [],
   "source": [
    "# IMPLEMENT ME; save all records as a list under 'recordsB2' to print\n",
    "# Don't modify anything below\n",
    "for r in recordsB2:\n",
    "    print((r[0], r[1]))"
   ]
  },
  {
   "cell_type": "markdown",
   "metadata": {},
   "source": [
    "### Part 3\n",
    "Print the teamID and total salary for each team in 2010. Sort by descending total salary. Make the year a variable in your execute statement."
   ]
  },
  {
   "cell_type": "code",
   "execution_count": 121,
   "metadata": {
    "collapsed": true
   },
   "outputs": [],
   "source": [
    "# IMPLEMENT ME; save all records as a list under 'recordsB3' to print\n",
    "# Don't modify anything below\n",
    "for r in recordsB3:\n",
    "    print((r[0], r[1]))"
   ]
  },
  {
   "cell_type": "markdown",
   "metadata": {},
   "source": [
    "## Problem C: Using pandas to get the results of a query"
   ]
  },
  {
   "cell_type": "markdown",
   "metadata": {},
   "source": [
    "### Part 1\n",
    "1. Make a new connection to the baseball database.\n",
    "2. Read the table names into a pandas data frame.\n",
    "3. Read the Salaries table into a pandas data frame.\n",
    "4. Using `head()` print the top records in the Salaries table."
   ]
  },
  {
   "cell_type": "code",
   "execution_count": 122,
   "metadata": {},
   "outputs": [
    {
     "data": {
      "text/html": [
       "<div>\n",
       "<style scoped>\n",
       "    .dataframe tbody tr th:only-of-type {\n",
       "        vertical-align: middle;\n",
       "    }\n",
       "\n",
       "    .dataframe tbody tr th {\n",
       "        vertical-align: top;\n",
       "    }\n",
       "\n",
       "    .dataframe thead th {\n",
       "        text-align: right;\n",
       "    }\n",
       "</style>\n",
       "<table border=\"1\" class=\"dataframe\">\n",
       "  <thead>\n",
       "    <tr style=\"text-align: right;\">\n",
       "      <th></th>\n",
       "      <th>yearID</th>\n",
       "      <th>teamID</th>\n",
       "      <th>lgID</th>\n",
       "      <th>playerID</th>\n",
       "      <th>salary</th>\n",
       "    </tr>\n",
       "  </thead>\n",
       "  <tbody>\n",
       "    <tr>\n",
       "      <th>0</th>\n",
       "      <td>1980</td>\n",
       "      <td>TOR</td>\n",
       "      <td>AL</td>\n",
       "      <td>stiebda01</td>\n",
       "      <td>55000.0</td>\n",
       "    </tr>\n",
       "    <tr>\n",
       "      <th>1</th>\n",
       "      <td>1981</td>\n",
       "      <td>NYA</td>\n",
       "      <td>AL</td>\n",
       "      <td>jacksre01</td>\n",
       "      <td>588000.0</td>\n",
       "    </tr>\n",
       "    <tr>\n",
       "      <th>2</th>\n",
       "      <td>1981</td>\n",
       "      <td>TOR</td>\n",
       "      <td>AL</td>\n",
       "      <td>stiebda01</td>\n",
       "      <td>85000.0</td>\n",
       "    </tr>\n",
       "    <tr>\n",
       "      <th>3</th>\n",
       "      <td>1982</td>\n",
       "      <td>TOR</td>\n",
       "      <td>AL</td>\n",
       "      <td>stiebda01</td>\n",
       "      <td>250000.0</td>\n",
       "    </tr>\n",
       "    <tr>\n",
       "      <th>4</th>\n",
       "      <td>1983</td>\n",
       "      <td>TOR</td>\n",
       "      <td>AL</td>\n",
       "      <td>stiebda01</td>\n",
       "      <td>450000.0</td>\n",
       "    </tr>\n",
       "  </tbody>\n",
       "</table>\n",
       "</div>"
      ],
      "text/plain": [
       "   yearID teamID lgID   playerID    salary\n",
       "0    1980    TOR   AL  stiebda01   55000.0\n",
       "1    1981    NYA   AL  jacksre01  588000.0\n",
       "2    1981    TOR   AL  stiebda01   85000.0\n",
       "3    1982    TOR   AL  stiebda01  250000.0\n",
       "4    1983    TOR   AL  stiebda01  450000.0"
      ]
     },
     "execution_count": 122,
     "metadata": {},
     "output_type": "execute_result"
    }
   ],
   "source": [
    "# IMPLEMENT ME (4 lines including the line given below)\n",
    "\n",
    "df_Salaries.head()"
   ]
  },
  {
   "cell_type": "markdown",
   "metadata": {},
   "source": [
    "### Part 2\n",
    "1. Create a new data frame with only the 2010 salaries\n",
    "2. Extract the tuple for the player with the highest salary in 2010.\n",
    "3. Print the tuple."
   ]
  },
  {
   "cell_type": "code",
   "execution_count": 123,
   "metadata": {
    "collapsed": true
   },
   "outputs": [],
   "source": [
    "# IMPLEMENT ME (2 lines); save the tuple under 'highest_salary_2010'\n",
    "# Don't modify anything below\n",
    "print(highest_salary_2010)"
   ]
  },
  {
   "cell_type": "markdown",
   "metadata": {},
   "source": [
    "### Part 3\n",
    "Use `groupby` and `agg` for extract the total salary grouped by team in the 2010 salary data frame. Print the head of the data frame."
   ]
  },
  {
   "cell_type": "code",
   "execution_count": 124,
   "metadata": {
    "collapsed": true
   },
   "outputs": [],
   "source": [
    "# IMPLEMENT ME (2 lines); save the dataframe under 'df_groupby'"
   ]
  },
  {
   "cell_type": "markdown",
   "metadata": {},
   "source": [
    "## Problem D: Joining tables in pandas"
   ]
  },
  {
   "cell_type": "markdown",
   "metadata": {},
   "source": [
    "### Part 1\n",
    "1. Import the Master table into a pandas dataframe. Show the head lines using `head`."
   ]
  },
  {
   "cell_type": "code",
   "execution_count": 125,
   "metadata": {
    "collapsed": true
   },
   "outputs": [],
   "source": [
    "# IMPLEMENT ME"
   ]
  },
  {
   "cell_type": "markdown",
   "metadata": {},
   "source": [
    "2. Import the Teams table into a pandas dataframe. Show the head lines using `head`."
   ]
  },
  {
   "cell_type": "code",
   "execution_count": null,
   "metadata": {
    "collapsed": true
   },
   "outputs": [],
   "source": [
    "# IMPLEMENT ME"
   ]
  },
  {
   "cell_type": "markdown",
   "metadata": {},
   "source": [
    "### Part 2\n",
    "Using a left merge, combine the Salaries table with the Teams table on the teamID and yearID key retaining all of the records in Salaries."
   ]
  },
  {
   "cell_type": "code",
   "execution_count": null,
   "metadata": {
    "collapsed": true
   },
   "outputs": [],
   "source": [
    "df_merge1 = # IMPLEMENT ME"
   ]
  },
  {
   "cell_type": "markdown",
   "metadata": {},
   "source": [
    "### Part 3\n",
    "Merge the previous data frame with the Master table on playerID retaining all of the salary rows. Show the head lines using `head`."
   ]
  },
  {
   "cell_type": "code",
   "execution_count": null,
   "metadata": {
    "collapsed": true
   },
   "outputs": [],
   "source": [
    "df_merge2 = # IMPLEMENT ME\n",
    "# IMPLEMENT ME; show the head lines"
   ]
  },
  {
   "cell_type": "markdown",
   "metadata": {},
   "source": [
    "### Part 4\n",
    "Print the head records with the following columns from the resulting data frame: first name, last name, team name, year, salary."
   ]
  },
  {
   "cell_type": "code",
   "execution_count": null,
   "metadata": {
    "collapsed": true
   },
   "outputs": [],
   "source": [
    "# IMPLEMENT ME"
   ]
  },
  {
   "cell_type": "code",
   "execution_count": null,
   "metadata": {
    "collapsed": true
   },
   "outputs": [],
   "source": []
  }
 ],
 "metadata": {
  "kernelspec": {
   "display_name": "Python 3",
   "language": "python",
   "name": "python3"
  },
  "language_info": {
   "codemirror_mode": {
    "name": "ipython",
    "version": 3
   },
   "file_extension": ".py",
   "mimetype": "text/x-python",
   "name": "python",
   "nbconvert_exporter": "python",
   "pygments_lexer": "ipython3",
   "version": "3.6.5"
  }
 },
 "nbformat": 4,
 "nbformat_minor": 2
}
