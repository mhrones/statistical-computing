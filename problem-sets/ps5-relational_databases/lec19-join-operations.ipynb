{
 "cells": [
  {
   "cell_type": "markdown",
   "metadata": {},
   "source": [
    "# Lecture 19: Join Operations\n",
    "This lecture will focus on taking a set of csv files and making a relational database from them. Then we will use that relational database to generate some useful composite tables."
   ]
  },
  {
   "cell_type": "code",
   "execution_count": 2,
   "metadata": {
    "collapsed": true
   },
   "outputs": [],
   "source": [
    "import sqlite3\n",
    "import pandas as pd\n",
    "import numpy as np\n",
    "import seaborn as sns\n",
    "import pdb"
   ]
  },
  {
   "cell_type": "markdown",
   "metadata": {},
   "source": [
    "## Create a connection to an \"in memory\" database\n",
    "Make a connection to the syllabus database file."
   ]
  },
  {
   "cell_type": "code",
   "execution_count": 2,
   "metadata": {
    "collapsed": true
   },
   "outputs": [],
   "source": [
    "def create_connection(db_file):\n",
    "    \"\"\" create a database connection to the syllabus db \"\"\"\n",
    "    try:\n",
    "        conn = sqlite3.connect(db_file)\n",
    "        return conn\n",
    "    except Error as error:\n",
    "        print(error)"
   ]
  },
  {
   "cell_type": "code",
   "execution_count": 3,
   "metadata": {
    "collapsed": true
   },
   "outputs": [],
   "source": [
    "syllabus_file = ':memory:'\n",
    "conn = create_connection(syllabus_file)"
   ]
  },
  {
   "cell_type": "code",
   "execution_count": 6,
   "metadata": {
    "collapsed": true
   },
   "outputs": [],
   "source": [
    "# create the db from the schema\n",
    "with open(\"syllabus-schema.sql\", \"r\") as schema_f:\n",
    "    schema = schema_f.read()\n",
    "    conn.executescript(schema)"
   ]
  },
  {
   "cell_type": "markdown",
   "metadata": {},
   "source": [
    "## Populate the database with the csv tables"
   ]
  },
  {
   "cell_type": "code",
   "execution_count": 7,
   "metadata": {
    "collapsed": true
   },
   "outputs": [],
   "source": [
    "def populate_table(csv_file, conn, table_name):\n",
    "    \"\"\" populates a db table with data from csv_file \"\"\"\n",
    "\n",
    "    csv_df = pd.read_csv(csv_file)\n",
    "    csv_df.to_sql(table_name, conn, if_exists=\"append\", index=False)"
   ]
  },
  {
   "cell_type": "code",
   "execution_count": 8,
   "metadata": {
    "collapsed": true
   },
   "outputs": [],
   "source": [
    "# populate the db using pandas\n",
    "populate_table(\"outcomes.csv\", conn, \"outcomes\")\n",
    "populate_table(\"assessments.csv\", conn, \"assessments\")\n",
    "populate_table(\"lectures.csv\", conn, \"lectures\")\n",
    "populate_table(\"schedule.csv\", conn, \"schedule\")"
   ]
  },
  {
   "cell_type": "markdown",
   "metadata": {},
   "source": [
    "## Join the lectures and schedule tables to make the lecture schedule"
   ]
  },
  {
   "cell_type": "code",
   "execution_count": 9,
   "metadata": {
    "collapsed": true
   },
   "outputs": [],
   "source": [
    "def lecture_schedule(conn):\n",
    "    \"\"\" creates a csv file containing the schedule \"\"\"\n",
    "\n",
    "    select_stmt = \"\"\"\n",
    "    SELECT schedule.id,\n",
    "           schedule.date,\n",
    "           schedule.day_of_week,\n",
    "           lectures.unit,\n",
    "           lectures.name,\n",
    "           lectures.reading\n",
    "    FROM schedule\n",
    "    LEFT JOIN lectures AS lectures ON schedule.lecture_id = lectures.id;\n",
    "    \"\"\"\n",
    "\n",
    "    schedule_df = pd.read_sql(select_stmt, conn, parse_dates={'date':'%m/%d/%Y'})\n",
    "    schedule_df.columns = ['No.', 'Date', 'DoW', 'Unit', 'Topic', 'Reading']\n",
    "    schedule_df[\"Date\"] = schedule_df[\"Date\"].dt.strftime(\"%m/%d/%Y\")\n",
    "    schedule_df.fillna(value='', inplace=True)\n",
    "\n",
    "    return schedule_df"
   ]
  },
  {
   "cell_type": "code",
   "execution_count": 10,
   "metadata": {
    "collapsed": true
   },
   "outputs": [],
   "source": [
    "# print the formatted schedule\n",
    "lecture_schedule_df = lecture_schedule(conn)\n",
    "with open(\"lecture_schedule.tex\", \"w\") as tex_f:\n",
    "    lecture_schedule_df.to_latex(tex_f, column_format='@{}rlllll@{}',\n",
    "                                index=False)"
   ]
  },
  {
   "cell_type": "markdown",
   "metadata": {},
   "source": [
    "## Join the schedule and assessment tables to create the assessment schedule"
   ]
  },
  {
   "cell_type": "code",
   "execution_count": 22,
   "metadata": {
    "collapsed": true
   },
   "outputs": [],
   "source": [
    "def assessment_schedule(conn):\n",
    "    \"\"\" creates a dataframe containing the assessment schedule \"\"\"\n",
    "\n",
    "    dist_stmt = \"\"\"\n",
    "    SELECT schedule.id,\n",
    "           schedule.date,\n",
    "           assessments_distributed.name as dist\n",
    "    FROM schedule\n",
    "    INNER JOIN assessments AS assessments_distributed \n",
    "    ON schedule.assessment_distributed_id = assessments_distributed.id\n",
    "    \"\"\"\n",
    "\n",
    "    coll_stmt = \"\"\"\n",
    "    SELECT schedule.id,\n",
    "           schedule.date,\n",
    "           assessments_collected.name as coll\n",
    "    FROM schedule\n",
    "    INNER JOIN assessments AS assessments_collected \n",
    "    ON schedule.assessment_collected_id = assessments_collected.id\n",
    "    \"\"\"\n",
    "\n",
    "    # Run SELECT to extract data frames\n",
    "    dist_df = pd.read_sql(dist_stmt, conn, parse_dates={'date': '%m/%d/%Y'})\n",
    "    coll_df = pd.read_sql(coll_stmt, conn, parse_dates={'date': '%m/%d/%Y'})\n",
    "\n",
    "    # Combine using OUTER join\n",
    "    schedule_df = pd.merge(dist_df, coll_df, on=['id', 'date'], how='outer', sort=True)\n",
    "    schedule_df.columns = ['No', 'Date', 'Distr.', 'Coll.']\n",
    "    schedule_df[\"Date\"] = schedule_df[\"Date\"].dt.strftime(\"%m/%d/%Y\")\n",
    "    schedule_df.fillna(value='', inplace=True)\n",
    "\n",
    "    return schedule_df"
   ]
  },
  {
   "cell_type": "code",
   "execution_count": 23,
   "metadata": {
    "collapsed": true
   },
   "outputs": [],
   "source": [
    "assessment_schedule_df = assessment_schedule(conn)\n",
    "with open(\"assessment_schedule.tex\", \"w\") as tex_f:\n",
    "    assessment_schedule_df.to_latex(tex_f, column_format='@{}rlll@{}',\n",
    "                                    index=False)"
   ]
  },
  {
   "cell_type": "markdown",
   "metadata": {},
   "source": [
    "## Close the connection to the database"
   ]
  },
  {
   "cell_type": "code",
   "execution_count": 13,
   "metadata": {
    "collapsed": true
   },
   "outputs": [],
   "source": [
    "conn.close()"
   ]
  },
  {
   "cell_type": "markdown",
   "metadata": {},
   "source": [
    "# Getting Started on Pset 5"
   ]
  },
  {
   "cell_type": "code",
   "execution_count": 3,
   "metadata": {},
   "outputs": [],
   "source": [
    "conn=sqlite3.connect(\"baseball.db\")\n",
    "c = conn.cursor()"
   ]
  },
  {
   "cell_type": "markdown",
   "metadata": {},
   "source": [
    "### Part 1\n",
    "Print all of the table names in the database. You should only show the names of the tables and there should be one table name per line."
   ]
  },
  {
   "cell_type": "code",
   "execution_count": 34,
   "metadata": {},
   "outputs": [
    {
     "name": "stdout",
     "output_type": "stream",
     "text": [
      "Master\n",
      "sqlite_sequence\n",
      "Teams\n",
      "TeamsFranchises\n",
      "TeamsHalf\n",
      "Batting\n",
      "Pitching\n",
      "Fielding\n",
      "FieldingOF\n",
      "Salaries\n",
      "Managers\n",
      "ManagersHalf\n",
      "AllstarFull\n",
      "AwardsPlayers\n",
      "AwardsSharePlayers\n",
      "AwardsManagers\n",
      "AwardsShareManagers\n",
      "HallOfFame\n",
      "BattingPost\n",
      "FieldingPost\n",
      "PitchingPost\n",
      "SeriesPost\n",
      "Schools\n",
      "SchoolsPlayers\n",
      "xref_stats\n",
      "Appearances\n"
     ]
    }
   ],
   "source": [
    "#find all tables names in the database\n",
    "c.execute(\"SELECT name FROM sqlite_master WHERE type='table'\")\n",
    "for name in c.fetchall():\n",
    "    print(name[0])"
   ]
  },
  {
   "cell_type": "markdown",
   "metadata": {},
   "source": [
    "### Part 2\n",
    "Print the column names for the Salaries table."
   ]
  },
  {
   "cell_type": "code",
   "execution_count": 35,
   "metadata": {},
   "outputs": [
    {
     "name": "stdout",
     "output_type": "stream",
     "text": [
      "['yearID', 'teamID', 'lgID', 'playerID', 'salary']\n"
     ]
    }
   ],
   "source": [
    "c.execute(\"SELECT * From Salaries\")\n",
    "# Using a list comprehension here\n",
    "names = [description[0] for description in c.description]\n",
    "print(names)"
   ]
  },
  {
   "cell_type": "markdown",
   "metadata": {},
   "source": [
    "### Part 3\n",
    "Print the first ten records in the Salaries table."
   ]
  },
  {
   "cell_type": "code",
   "execution_count": 36,
   "metadata": {},
   "outputs": [
    {
     "name": "stdout",
     "output_type": "stream",
     "text": [
      "[(1980, 'TOR', 'AL', 'stiebda01', 55000.0), (1981, 'NYA', 'AL', 'jacksre01', 588000.0), (1981, 'TOR', 'AL', 'stiebda01', 85000.0), (1982, 'TOR', 'AL', 'stiebda01', 250000.0), (1983, 'TOR', 'AL', 'stiebda01', 450000.0), (1984, 'TOR', 'AL', 'stiebda01', 650000.0), (1985, 'ATL', 'NL', 'barkele01', 870000.0), (1985, 'ATL', 'NL', 'bedrost01', 550000.0), (1985, 'ATL', 'NL', 'benedbr01', 545000.0), (1985, 'ATL', 'NL', 'campri01', 633333.0)]\n"
     ]
    }
   ],
   "source": [
    "#find column names of Salaries table\n",
    "c.execute(\"SELECT * From Salaries\")\n",
    "print(c.fetchmany(10))# first 10 rows\n",
    "# Notice that a list of tuples is returned"
   ]
  },
  {
   "cell_type": "markdown",
   "metadata": {},
   "source": [
    "## Problem B: Grouping and Sorting\n",
    "### Part 1\n",
    "Print the first 10 teamIDs and average salaries from the Salary table for 2010, where 2010 is a variable."
   ]
  },
  {
   "cell_type": "code",
   "execution_count": 4,
   "metadata": {},
   "outputs": [
    {
     "name": "stdout",
     "output_type": "stream",
     "text": [
      "('ARI', 2335314.076923077)\n",
      "('ATL', 3126802.4444444445)\n",
      "('BAL', 3138942.3076923075)\n",
      "('BOS', 5601632.172413793)\n",
      "('CHA', 4058846.153846154)\n",
      "('CHN', 5429962.962962963)\n",
      "('CIN', 2760059.3076923075)\n",
      "('CLE', 2110481.5862068967)\n",
      "('COL', 2904379.3103448274)\n",
      "('DET', 4550552.888888889)\n",
      "('FLO', 2112211.814814815)\n",
      "('HOU', 3298410.714285714)\n",
      "('KCA', 2644637.407407407)\n",
      "('LAA', 3619443.6551724137)\n",
      "('LAN', 3531778.3703703703)\n",
      "('MIL', 2796837.172413793)\n",
      "('MIN', 3484255.9285714286)\n",
      "('NYA', 8253335.56)\n",
      "('NYN', 4800819.357142857)\n",
      "('OAK', 1726715.625)\n",
      "('PHI', 5068870.678571428)\n",
      "('PIT', 1294185.1851851852)\n",
      "('SDN', 1453819.2307692308)\n",
      "('SEA', 3089642.8571428573)\n",
      "('SFN', 3522904.75)\n",
      "('SLN', 3741630.04)\n",
      "('TBA', 2663832.2592592593)\n",
      "('TEX', 1905191.1724137932)\n",
      "('TOR', 2074466.6666666667)\n",
      "('WAS', 2046666.6666666667)\n"
     ]
    }
   ],
   "source": [
    "y = ('2010',)\n",
    "c.execute('SELECT teamID, AVG(salary) From Salaries WHERE yearID = ? GROUP BY teamID', y)\n",
    "for r in c.fetchall():\n",
    "    print((r[0], r[1]))"
   ]
  },
  {
   "cell_type": "markdown",
   "metadata": {},
   "source": [
    "### Part 2\n",
    "Print the playerID and salary for the player with this highest salary in 2010. Make the year a variable in your execute statement. You should have one execute statement and one print statement."
   ]
  },
  {
   "cell_type": "code",
   "execution_count": 38,
   "metadata": {},
   "outputs": [
    {
     "name": "stdout",
     "output_type": "stream",
     "text": [
      "[(33000000.0, 'rodrial01')]\n"
     ]
    }
   ],
   "source": [
    "c.execute('SELECT MAX(salary), playerID From Salaries WHERE yearID = ?', y)\n",
    "print(c.fetchall())"
   ]
  },
  {
   "cell_type": "markdown",
   "metadata": {},
   "source": [
    "### Part 3\n",
    "Print the teamID and total salary for each team in 2010. Sort by descending total salary. Make the year a variable in your execute statement."
   ]
  },
  {
   "cell_type": "code",
   "execution_count": 39,
   "metadata": {},
   "outputs": [
    {
     "name": "stdout",
     "output_type": "stream",
     "text": [
      "('NYA', 206333389.0)\n",
      "('BOS', 162447333.0)\n",
      "('CHN', 146609000.0)\n",
      "('PHI', 141928379.0)\n",
      "('NYN', 134422942.0)\n",
      "('DET', 122864928.0)\n",
      "('CHA', 105530000.0)\n",
      "('LAA', 104963866.0)\n",
      "('SFN', 98641333.0)\n",
      "('MIN', 97559166.0)\n",
      "('LAN', 95358016.0)\n",
      "('SLN', 93540751.0)\n",
      "('HOU', 92355500.0)\n",
      "('SEA', 86510000.0)\n",
      "('ATL', 84423666.0)\n",
      "('COL', 84227000.0)\n",
      "('BAL', 81612500.0)\n",
      "('MIL', 81108278.0)\n",
      "('TBA', 71923471.0)\n",
      "('CIN', 71761542.0)\n",
      "('KCA', 71405210.0)\n",
      "('TOR', 62234000.0)\n",
      "('WAS', 61400000.0)\n",
      "('CLE', 61203966.0)\n",
      "('ARI', 60718166.0)\n",
      "('FLO', 57029719.0)\n",
      "('OAK', 55254900.0)\n",
      "('TEX', 55250544.0)\n",
      "('SDN', 37799300.0)\n",
      "('PIT', 34943000.0)\n"
     ]
    }
   ],
   "source": [
    "c.execute('SELECT teamID, SUM(salary) FROM Salaries WHERE yearID = ? GROUP BY teamID ORDER BY SUM(salary) DESC',y)\n",
    "for r in c.fetchall():\n",
    "    print((r[0], r[1]))"
   ]
  },
  {
   "cell_type": "code",
   "execution_count": null,
   "metadata": {
    "collapsed": true
   },
   "outputs": [],
   "source": []
  }
 ],
 "metadata": {
  "kernelspec": {
   "display_name": "Python 3",
   "language": "python",
   "name": "python3"
  },
  "language_info": {
   "codemirror_mode": {
    "name": "ipython",
    "version": 3
   },
   "file_extension": ".py",
   "mimetype": "text/x-python",
   "name": "python",
   "nbconvert_exporter": "python",
   "pygments_lexer": "ipython3",
   "version": "3.6.3"
  }
 },
 "nbformat": 4,
 "nbformat_minor": 2
}
