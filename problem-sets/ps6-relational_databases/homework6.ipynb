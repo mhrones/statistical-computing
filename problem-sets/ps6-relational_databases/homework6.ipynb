{
 "cells": [
  {
   "cell_type": "markdown",
   "metadata": {},
   "source": [
    "## Problem Set 6: Computational Complexity"
   ]
  },
  {
   "cell_type": "markdown",
   "metadata": {},
   "source": [
    "Matthew Hrones<br>\n",
    "STAT 535: Statistical Computing<br>\n",
    "4/12/20<br>"
   ]
  },
  {
   "cell_type": "code",
   "execution_count": 1,
   "metadata": {},
   "outputs": [],
   "source": [
    "import math\n",
    "import random"
   ]
  },
  {
   "cell_type": "markdown",
   "metadata": {},
   "source": [
    "<b>Part (a):</b> When you are able to divide a problem into subproblems that themselves look just like the original with different inputs, what kind of algorithm is used?"
   ]
  },
  {
   "cell_type": "markdown",
   "metadata": {},
   "source": [
    "Dividing a problem into subproblems is called using a recursive algorithm"
   ]
  },
  {
   "cell_type": "markdown",
   "metadata": {},
   "source": [
    "<b>Part (b):</b> What is/are the base case(s)?"
   ]
  },
  {
   "cell_type": "markdown",
   "metadata": {},
   "source": [
    "The recursive power algorithm has two base cases.\n",
    "* Base Case 1: y == 0, where 1 is returned\n",
    "* Base Case 2: y == 1, where x is returned"
   ]
  },
  {
   "cell_type": "markdown",
   "metadata": {},
   "source": [
    "<b>Part (c):</b> Write a simple recursive formulation of the power function"
   ]
  },
  {
   "cell_type": "code",
   "execution_count": 2,
   "metadata": {},
   "outputs": [],
   "source": [
    "def recursive_power(x,y):\n",
    "\n",
    "    if y == 0:     # First Base Case\n",
    "        return 1\n",
    "    if y == 1:     # Second Base Case\n",
    "        return x\n",
    "    \n",
    "    if y % 2 == 0: # Determining if y is even or odd\n",
    "                   # If even, we create subproblems [x^(y/2)] and return[x^(y/2)]^2\n",
    "        return recursive_power(x, y//2) * recursive_power(x, y//2)     \n",
    "    else:\n",
    "                   # If odd, we multiply by an extra x term in the return statement\n",
    "        return recursive_power(x, y//2) * recursive_power(x, y//2) * x \n",
    "    "
   ]
  },
  {
   "cell_type": "markdown",
   "metadata": {},
   "source": [
    "<b>Part (d):</b> Refactor your simple recursive formulation to a memoized dynamic programming formulation"
   ]
  },
  {
   "cell_type": "code",
   "execution_count": 3,
   "metadata": {},
   "outputs": [],
   "source": [
    "memo_dict = {}\n",
    "\n",
    "def dynamic_power(x,y):\n",
    "\n",
    "    xy_pair = (x, y)             #generate key entry for memo_dict\n",
    "\n",
    "    if xy_pair in memo_dict:     # check to see if the key exists in memo_dict\n",
    "        return memo_dict[xy_pair]\n",
    "    \n",
    "    if y == 0:                   # Base Case 1\n",
    "        return 1\n",
    "    if y == 1:                   # Base Cases 2\n",
    "        return x\n",
    "    \n",
    "    if y % 2 == 0:               # Determining if y is even or odd\n",
    "                                 # if even, create an entry for the result [x^y]^2 and return it\n",
    "        memo_dict[xy_pair] = dynamic_power(x, y//2) * dynamic_power(x, y//2)\n",
    "        return memo_dict[xy_pair]\n",
    "    else:                        # if odd, create an entry for the result ([x^y]^2)*(x) and return it\n",
    "        memo_dict[xy_pair] = dynamic_power(x, y//2) * dynamic_power(x, y//2) * x\n",
    "        return memo_dict[xy_pair]"
   ]
  },
  {
   "cell_type": "markdown",
   "metadata": {},
   "source": [
    "<b>Part (e):</b> Refactor your simple recursive formulation to a bottom-up (iterative) programming formulation"
   ]
  },
  {
   "cell_type": "code",
   "execution_count": 4,
   "metadata": {},
   "outputs": [],
   "source": [
    "iter_dict = {}\n",
    "\n",
    "def iterative_power(x, y):\n",
    "    xy_pair = (x, y)             #generate key entry for iter_dict\n",
    "    \n",
    "    iter_dict[(x, 0)] = 1        # loading initial values into iter_dict\n",
    "    iter_dict[(x, 1)] = x\n",
    "    \n",
    "    for y_val in range(2, y+1):  # looping through the y_values, from 2 to y\n",
    "        \n",
    "        if y_val % 2 == 0:       # if even, create an entry for the result [x^y]^2\n",
    "            iter_dict[(x, y_val)] = iter_dict[(x, y_val//2)] * iter_dict[(x, y_val//2)]\n",
    "            \n",
    "        else:                    # if odd, create an entry for the result ([x^y]^2)*(x) and return it\n",
    "            iter_dict[(x, y_val)] = iter_dict[(x, y_val//2)] * iter_dict[(x, y_val//2)] * x\n",
    "            \n",
    "            \n",
    "    return iter_dict[(x, y)]     # return the value for (x, y) once x^y has been computed for all y in range (0, y)"
   ]
  },
  {
   "cell_type": "markdown",
   "metadata": {},
   "source": [
    "<b>TESTING</b>"
   ]
  },
  {
   "cell_type": "code",
   "execution_count": 5,
   "metadata": {},
   "outputs": [],
   "source": [
    "def power_test(func):\n",
    "    \n",
    "    print(\"------------------------------\")\n",
    "    \n",
    "    print(\"FUNCTION TEST: \", func)\n",
    "    \n",
    "    # Calculating x^y, for all x, y in range (0, 100)\n",
    "    for x in range(0,100):\n",
    "        for y in range(0, 100):\n",
    "            \n",
    "            display = random.randint(0,30) # generating random number that will decide if the result is printed\n",
    "            \n",
    "            power = x**y                   # finding result using python's built in exponent operator\n",
    "            result = func(x, y)            # finding result using the selected method\n",
    "            \n",
    "            if power != result:            # checking to see if the results match\n",
    "                print(\"FAIL\")              # If they do not, break\n",
    "                return                      \n",
    "            \n",
    "            elif display == 10 and y < 10 and x < 15:            # Code that will print occasionally print test results\n",
    "                print(\"Displaying Randomly Selected Test\")       # Will not print insanely large exponents\n",
    "                print(\"x = \"+ str(x)+ \", y = \" + str(y) + \", Result: \" + str(result))\n",
    "                print(\"SUCCESS\\n\")\n",
    "                \n",
    "    \n",
    "    print(\"COMPLETE SUCCESS!\")\n",
    "    print(\"------------------------------\")\n"
   ]
  },
  {
   "cell_type": "code",
   "execution_count": 6,
   "metadata": {},
   "outputs": [
    {
     "name": "stdout",
     "output_type": "stream",
     "text": [
      "------------------------------\n",
      "FUNCTION TEST:  <function recursive_power at 0x7f872426ac10>\n",
      "Displaying Randomly Selected Test\n",
      "x = 0, y = 9, Result: 0\n",
      "SUCCESS\n",
      "\n",
      "Displaying Randomly Selected Test\n",
      "x = 1, y = 2, Result: 1\n",
      "SUCCESS\n",
      "\n",
      "Displaying Randomly Selected Test\n",
      "x = 10, y = 7, Result: 10000000\n",
      "SUCCESS\n",
      "\n",
      "Displaying Randomly Selected Test\n",
      "x = 11, y = 8, Result: 214358881\n",
      "SUCCESS\n",
      "\n",
      "Displaying Randomly Selected Test\n",
      "x = 14, y = 2, Result: 196\n",
      "SUCCESS\n",
      "\n",
      "COMPLETE SUCCESS!\n",
      "------------------------------\n"
     ]
    }
   ],
   "source": [
    "power_test(recursive_power)"
   ]
  },
  {
   "cell_type": "code",
   "execution_count": 7,
   "metadata": {},
   "outputs": [
    {
     "name": "stdout",
     "output_type": "stream",
     "text": [
      "------------------------------\n",
      "FUNCTION TEST:  <function dynamic_power at 0x7f872426a940>\n",
      "Displaying Randomly Selected Test\n",
      "x = 1, y = 4, Result: 1\n",
      "SUCCESS\n",
      "\n",
      "Displaying Randomly Selected Test\n",
      "x = 4, y = 6, Result: 4096\n",
      "SUCCESS\n",
      "\n",
      "Displaying Randomly Selected Test\n",
      "x = 7, y = 4, Result: 2401\n",
      "SUCCESS\n",
      "\n",
      "Displaying Randomly Selected Test\n",
      "x = 9, y = 7, Result: 4782969\n",
      "SUCCESS\n",
      "\n",
      "Displaying Randomly Selected Test\n",
      "x = 10, y = 4, Result: 10000\n",
      "SUCCESS\n",
      "\n",
      "Displaying Randomly Selected Test\n",
      "x = 11, y = 1, Result: 11\n",
      "SUCCESS\n",
      "\n",
      "Displaying Randomly Selected Test\n",
      "x = 12, y = 1, Result: 12\n",
      "SUCCESS\n",
      "\n",
      "Displaying Randomly Selected Test\n",
      "x = 13, y = 5, Result: 371293\n",
      "SUCCESS\n",
      "\n",
      "COMPLETE SUCCESS!\n",
      "------------------------------\n"
     ]
    }
   ],
   "source": [
    "power_test(dynamic_power)"
   ]
  },
  {
   "cell_type": "code",
   "execution_count": 8,
   "metadata": {},
   "outputs": [
    {
     "name": "stdout",
     "output_type": "stream",
     "text": [
      "------------------------------\n",
      "FUNCTION TEST:  <function iterative_power at 0x7f872422c5e0>\n",
      "Displaying Randomly Selected Test\n",
      "x = 1, y = 6, Result: 1\n",
      "SUCCESS\n",
      "\n",
      "Displaying Randomly Selected Test\n",
      "x = 2, y = 7, Result: 128\n",
      "SUCCESS\n",
      "\n",
      "Displaying Randomly Selected Test\n",
      "x = 5, y = 4, Result: 625\n",
      "SUCCESS\n",
      "\n",
      "Displaying Randomly Selected Test\n",
      "x = 6, y = 5, Result: 7776\n",
      "SUCCESS\n",
      "\n",
      "Displaying Randomly Selected Test\n",
      "x = 8, y = 8, Result: 16777216\n",
      "SUCCESS\n",
      "\n",
      "Displaying Randomly Selected Test\n",
      "x = 9, y = 4, Result: 6561\n",
      "SUCCESS\n",
      "\n",
      "Displaying Randomly Selected Test\n",
      "x = 11, y = 0, Result: 1\n",
      "SUCCESS\n",
      "\n",
      "Displaying Randomly Selected Test\n",
      "x = 11, y = 4, Result: 14641\n",
      "SUCCESS\n",
      "\n",
      "COMPLETE SUCCESS!\n",
      "------------------------------\n"
     ]
    }
   ],
   "source": [
    "power_test(iterative_power)"
   ]
  }
 ],
 "metadata": {
  "kernelspec": {
   "display_name": "Python 3",
   "language": "python",
   "name": "python3"
  },
  "language_info": {
   "codemirror_mode": {
    "name": "ipython",
    "version": 3
   },
   "file_extension": ".py",
   "mimetype": "text/x-python",
   "name": "python",
   "nbconvert_exporter": "python",
   "pygments_lexer": "ipython3",
   "version": "3.8.5"
  }
 },
 "nbformat": 4,
 "nbformat_minor": 4
}
